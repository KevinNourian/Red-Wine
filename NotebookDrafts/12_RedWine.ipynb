{
 "cells": [
  {
   "cell_type": "markdown",
   "id": "ccbf765a",
   "metadata": {},
   "source": [
    "# Red Wine Draft 12"
   ]
  },
  {
   "cell_type": "markdown",
   "id": "55b75ab1",
   "metadata": {},
   "source": [
    "# Libraries"
   ]
  },
  {
   "cell_type": "code",
   "execution_count": 78,
   "id": "e1e914e5",
   "metadata": {},
   "outputs": [],
   "source": [
    "import pandas as pd\n",
    "import numpy as np\n",
    "import seaborn as sns\n",
    "import matplotlib as mpl\n",
    "import matplotlib.pyplot as plt\n",
    "import warnings\n",
    "import datetime\n",
    "import sqlite3\n",
    "import imblearn\n",
    "\n",
    "\n",
    "from IPython.display import display\n",
    "from pylab import rcParams\n",
    "from sklearn.model_selection import train_test_split\n",
    "from sklearn.linear_model import LogisticRegression\n",
    "from sklearn.metrics import classification_report, confusion_matrix\n",
    "from sklearn.metrics import accuracy_score\n",
    "from imblearn.over_sampling import RandomOverSampler\n",
    "from imblearn.pipeline import Pipeline\n",
    "from sklearn import tree\n",
    "from sklearn.tree import DecisionTreeClassifier\n",
    "from sklearn.metrics import roc_auc_score\n",
    "from sklearn.metrics import roc_curve\n",
    "from sklearn.metrics import f1_score\n",
    "from sklearn.preprocessing import MinMaxScaler"
   ]
  },
  {
   "cell_type": "markdown",
   "id": "d1b3e303",
   "metadata": {},
   "source": [
    "# Load Raw Data"
   ]
  },
  {
   "cell_type": "code",
   "execution_count": 79,
   "id": "1e7b07c8",
   "metadata": {},
   "outputs": [],
   "source": [
    "redwine = pd.read_csv(\n",
    "    \"C:\\\\Users\\\\Space\\\\Documents\\\\py\\\\Projects\\\\TuringCollege\\\\RedWine\\\\DataSets\\\\winequality-red.csv\",\n",
    "    index_col=False,\n",
    ")"
   ]
  },
  {
   "cell_type": "markdown",
   "id": "09096831",
   "metadata": {},
   "source": [
    "# Two Groups"
   ]
  },
  {
   "cell_type": "code",
   "execution_count": 81,
   "id": "7b75a876",
   "metadata": {},
   "outputs": [],
   "source": [
    "redwine[\"quality\"] = redwine[\"quality\"].replace([8], 1)\n",
    "redwine[\"quality\"] = redwine[\"quality\"].replace([3, 4, 5, 6, 7], 0)"
   ]
  },
  {
   "cell_type": "markdown",
   "id": "221f86f5",
   "metadata": {},
   "source": [
    "# Data Normalization"
   ]
  },
  {
   "cell_type": "code",
   "execution_count": 84,
   "id": "6fd0a988",
   "metadata": {},
   "outputs": [
    {
     "data": {
      "text/html": [
       "<div>\n",
       "<style scoped>\n",
       "    .dataframe tbody tr th:only-of-type {\n",
       "        vertical-align: middle;\n",
       "    }\n",
       "\n",
       "    .dataframe tbody tr th {\n",
       "        vertical-align: top;\n",
       "    }\n",
       "\n",
       "    .dataframe thead th {\n",
       "        text-align: right;\n",
       "    }\n",
       "</style>\n",
       "<table border=\"1\" class=\"dataframe\">\n",
       "  <thead>\n",
       "    <tr style=\"text-align: right;\">\n",
       "      <th></th>\n",
       "      <th>fixed acidity</th>\n",
       "      <th>volatile acidity</th>\n",
       "      <th>citric acid</th>\n",
       "      <th>residual sugar</th>\n",
       "      <th>chlorides</th>\n",
       "      <th>free sulfur dioxide</th>\n",
       "      <th>total sulfur dioxide</th>\n",
       "      <th>density</th>\n",
       "      <th>pH</th>\n",
       "      <th>sulphates</th>\n",
       "      <th>alcohol</th>\n",
       "      <th>quality</th>\n",
       "    </tr>\n",
       "  </thead>\n",
       "  <tbody>\n",
       "    <tr>\n",
       "      <th>0</th>\n",
       "      <td>0.25</td>\n",
       "      <td>0.40</td>\n",
       "      <td>0.00</td>\n",
       "      <td>0.07</td>\n",
       "      <td>0.11</td>\n",
       "      <td>0.14</td>\n",
       "      <td>0.10</td>\n",
       "      <td>0.57</td>\n",
       "      <td>0.61</td>\n",
       "      <td>0.14</td>\n",
       "      <td>0.15</td>\n",
       "      <td>0.00</td>\n",
       "    </tr>\n",
       "    <tr>\n",
       "      <th>1</th>\n",
       "      <td>0.28</td>\n",
       "      <td>0.52</td>\n",
       "      <td>0.00</td>\n",
       "      <td>0.12</td>\n",
       "      <td>0.14</td>\n",
       "      <td>0.34</td>\n",
       "      <td>0.22</td>\n",
       "      <td>0.49</td>\n",
       "      <td>0.36</td>\n",
       "      <td>0.21</td>\n",
       "      <td>0.22</td>\n",
       "      <td>0.00</td>\n",
       "    </tr>\n",
       "    <tr>\n",
       "      <th>2</th>\n",
       "      <td>0.28</td>\n",
       "      <td>0.44</td>\n",
       "      <td>0.04</td>\n",
       "      <td>0.10</td>\n",
       "      <td>0.13</td>\n",
       "      <td>0.20</td>\n",
       "      <td>0.17</td>\n",
       "      <td>0.51</td>\n",
       "      <td>0.41</td>\n",
       "      <td>0.19</td>\n",
       "      <td>0.22</td>\n",
       "      <td>0.00</td>\n",
       "    </tr>\n",
       "    <tr>\n",
       "      <th>3</th>\n",
       "      <td>0.58</td>\n",
       "      <td>0.11</td>\n",
       "      <td>0.56</td>\n",
       "      <td>0.07</td>\n",
       "      <td>0.11</td>\n",
       "      <td>0.23</td>\n",
       "      <td>0.19</td>\n",
       "      <td>0.58</td>\n",
       "      <td>0.33</td>\n",
       "      <td>0.15</td>\n",
       "      <td>0.22</td>\n",
       "      <td>0.00</td>\n",
       "    </tr>\n",
       "    <tr>\n",
       "      <th>4</th>\n",
       "      <td>0.25</td>\n",
       "      <td>0.40</td>\n",
       "      <td>0.00</td>\n",
       "      <td>0.07</td>\n",
       "      <td>0.11</td>\n",
       "      <td>0.14</td>\n",
       "      <td>0.10</td>\n",
       "      <td>0.57</td>\n",
       "      <td>0.61</td>\n",
       "      <td>0.14</td>\n",
       "      <td>0.15</td>\n",
       "      <td>0.00</td>\n",
       "    </tr>\n",
       "  </tbody>\n",
       "</table>\n",
       "</div>"
      ],
      "text/plain": [
       "   fixed acidity  volatile acidity  citric acid  residual sugar  chlorides  \\\n",
       "0           0.25              0.40         0.00            0.07       0.11   \n",
       "1           0.28              0.52         0.00            0.12       0.14   \n",
       "2           0.28              0.44         0.04            0.10       0.13   \n",
       "3           0.58              0.11         0.56            0.07       0.11   \n",
       "4           0.25              0.40         0.00            0.07       0.11   \n",
       "\n",
       "   free sulfur dioxide  total sulfur dioxide  density   pH  sulphates  \\\n",
       "0                 0.14                  0.10     0.57 0.61       0.14   \n",
       "1                 0.34                  0.22     0.49 0.36       0.21   \n",
       "2                 0.20                  0.17     0.51 0.41       0.19   \n",
       "3                 0.23                  0.19     0.58 0.33       0.15   \n",
       "4                 0.14                  0.10     0.57 0.61       0.14   \n",
       "\n",
       "   alcohol  quality  \n",
       "0     0.15     0.00  \n",
       "1     0.22     0.00  \n",
       "2     0.22     0.00  \n",
       "3     0.22     0.00  \n",
       "4     0.15     0.00  "
      ]
     },
     "execution_count": 84,
     "metadata": {},
     "output_type": "execute_result"
    }
   ],
   "source": [
    "scaler = MinMaxScaler()\n",
    "scaled_redwine = scaler.fit_transform(redwine)\n",
    "scaled_redwine = pd.DataFrame(scaled_redwine, columns = ['fixed acidity', 'volatile acidity', 'citric acid', 'residual sugar',\n",
    "       'chlorides', 'free sulfur dioxide', 'total sulfur dioxide', 'density',\n",
    "       'pH', 'sulphates', 'alcohol', 'quality'])\n",
    "scaled_redwine.head()"
   ]
  },
  {
   "cell_type": "markdown",
   "id": "5e6b7b94",
   "metadata": {},
   "source": [
    "# The Columns"
   ]
  },
  {
   "cell_type": "code",
   "execution_count": 85,
   "id": "f8042a3d",
   "metadata": {},
   "outputs": [],
   "source": [
    "feature_cols = [\n",
    "    \"citric acid\",\n",
    "    \"residual sugar\",\n",
    "    \"total sulfur dioxide\",\n",
    "    \"sulphates\",\n",
    "    \"alcohol\",\n",
    "]\n",
    "\n",
    "X = redwine[feature_cols]\n",
    "y = redwine.quality"
   ]
  },
  {
   "cell_type": "markdown",
   "id": "5dd93538",
   "metadata": {},
   "source": [
    "# Random Over Sampler"
   ]
  },
  {
   "cell_type": "code",
   "execution_count": 86,
   "id": "3a012631",
   "metadata": {},
   "outputs": [],
   "source": [
    "oversample = RandomOverSampler(sampling_strategy=\"minority\")\n",
    "oversample = RandomOverSampler(sampling_strategy=\"auto\")\n",
    "steps = [(\"over\", RandomOverSampler()), (\"model\", LogisticRegression())]\n",
    "pipeline = Pipeline(steps=steps)\n",
    "X, y = oversample.fit_resample(X, y)"
   ]
  },
  {
   "cell_type": "markdown",
   "id": "e3ae9b06",
   "metadata": {},
   "source": [
    "# The Model"
   ]
  },
  {
   "cell_type": "code",
   "execution_count": 87,
   "id": "38c6740e",
   "metadata": {},
   "outputs": [],
   "source": [
    "X_train, X_test, y_train, y_test = train_test_split(\n",
    "    X, y, shuffle=True, test_size=0.2, random_state=0)\n",
    "log_model = LogisticRegression(solver=\"liblinear\", random_state=None)\n",
    "log_model.fit(X_train, y_train)\n",
    "y_predict = log_model.predict(X_test)"
   ]
  },
  {
   "cell_type": "markdown",
   "id": "0a05fa27",
   "metadata": {},
   "source": [
    "# Confusion Matrix"
   ]
  },
  {
   "cell_type": "code",
   "execution_count": 88,
   "id": "254f42a4",
   "metadata": {
    "scrolled": false
   },
   "outputs": [
    {
     "data": {
      "text/plain": [
       "array([[502, 153],\n",
       "       [  0, 610]], dtype=int64)"
      ]
     },
     "execution_count": 88,
     "metadata": {},
     "output_type": "execute_result"
    }
   ],
   "source": [
    "confusion_matrix(y_test, y_predict)"
   ]
  },
  {
   "cell_type": "markdown",
   "id": "ce8763ac",
   "metadata": {},
   "source": [
    "# Classification Report"
   ]
  },
  {
   "cell_type": "code",
   "execution_count": 92,
   "id": "4dac80bf",
   "metadata": {
    "scrolled": false
   },
   "outputs": [
    {
     "name": "stdout",
     "output_type": "stream",
     "text": [
      "              precision    recall  f1-score   support\n",
      "\n",
      "           0       1.00      0.77      0.87       655\n",
      "           1       0.80      1.00      0.89       610\n",
      "\n",
      "    accuracy                           0.88      1265\n",
      "   macro avg       0.90      0.88      0.88      1265\n",
      "weighted avg       0.90      0.88      0.88      1265\n",
      "\n"
     ]
    }
   ],
   "source": [
    "print(classification_report(y_test, y_predict))"
   ]
  },
  {
   "cell_type": "markdown",
   "id": "e79486cf",
   "metadata": {},
   "source": [
    "# F1 Score"
   ]
  },
  {
   "cell_type": "code",
   "execution_count": 89,
   "id": "6967eeed",
   "metadata": {},
   "outputs": [
    {
     "name": "stdout",
     "output_type": "stream",
     "text": [
      "f1 score is:  0.89\n"
     ]
    }
   ],
   "source": [
    "print('f1 score is: ', np.round(f1_score(y_test, y_predict),2))"
   ]
  },
  {
   "cell_type": "markdown",
   "id": "9a29c6b3",
   "metadata": {},
   "source": [
    "# Accuracy Score"
   ]
  },
  {
   "cell_type": "code",
   "execution_count": 90,
   "id": "bbe654bc",
   "metadata": {},
   "outputs": [
    {
     "name": "stdout",
     "output_type": "stream",
     "text": [
      "The accuracy score is:  0.88\n"
     ]
    }
   ],
   "source": [
    "print('The accuracy score is: ', np.round(accuracy_score(y_test, log_model.predict(X_test)),2))"
   ]
  },
  {
   "cell_type": "markdown",
   "id": "a748ef9e",
   "metadata": {},
   "source": [
    "# Receiver Operating Characteristic (ROC) Curve"
   ]
  },
  {
   "cell_type": "code",
   "execution_count": 91,
   "id": "95b50477",
   "metadata": {},
   "outputs": [
    {
     "data": {
      "image/png": "[encoded data removed]",
      "text/plain": [
       "<Figure size 640x480 with 1 Axes>"
      ]
     },
     "metadata": {},
     "output_type": "display_data"
    }
   ],
   "source": [
    "logit_roc_auc = roc_auc_score(y_test, y_predict)\n",
    "fpr, tpr, thresholds = roc_curve(y_test, log_model.predict_proba(X_test)[:,1])\n",
    "plt.figure()\n",
    "plt.plot(fpr, tpr, label='Logistic Regression (area = %0.2f)' % logit_roc_auc)\n",
    "plt.plot([0, 1], [0, 1],'r--')\n",
    "plt.xlim([0.0, 1.0])\n",
    "plt.ylim([0.0, 1.05])\n",
    "plt.xlabel('False Positive Rate')\n",
    "plt.ylabel('True Positive Rate')\n",
    "plt.title('Receiver operating characteristic')\n",
    "plt.legend(loc=\"lower right\")\n",
    "plt.savefig('Log_ROC')\n",
    "plt.show()"
   ]
  }
 ],
 "metadata": {
  "kernelspec": {
   "display_name": "Python 3 (ipykernel)",
   "language": "python",
   "name": "python3"
  },
  "language_info": {
   "codemirror_mode": {
    "name": "ipython",
    "version": 3
   },
   "file_extension": ".py",
   "mimetype": "text/x-python",
   "name": "python",
   "nbconvert_exporter": "python",
   "pygments_lexer": "ipython3",
   "version": "3.10.7"
  }
 },
 "nbformat": 4,
 "nbformat_minor": 5
}
