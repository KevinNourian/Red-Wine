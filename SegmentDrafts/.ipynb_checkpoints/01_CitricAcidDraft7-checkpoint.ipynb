{
 "cells": [
  {
   "cell_type": "markdown",
   "id": "ccbf765a",
   "metadata": {},
   "source": [
    "# Citric Acid Draft 7"
   ]
  },
  {
   "cell_type": "markdown",
   "id": "55b75ab1",
   "metadata": {},
   "source": [
    "# Libraries"
   ]
  },
  {
   "cell_type": "code",
   "execution_count": 31,
   "id": "e1e914e5",
   "metadata": {},
   "outputs": [],
   "source": [
    "import pandas as pd\n",
    "import numpy as np\n",
    "import seaborn as sns\n",
    "import matplotlib as mpl\n",
    "import matplotlib.pyplot as plt\n",
    "import warnings\n",
    "import datetime\n",
    "import sqlite3\n",
    "import imblearn\n",
    "\n",
    "\n",
    "from IPython.display import display\n",
    "from pylab import rcParams\n",
    "from sklearn.model_selection import train_test_split\n",
    "from sklearn.linear_model import LogisticRegression\n",
    "from sklearn.metrics import classification_report, confusion_matrix\n",
    "from sklearn.metrics import accuracy_score\n",
    "from imblearn.over_sampling import RandomOverSampler\n",
    "from imblearn.pipeline import Pipeline\n",
    "from sklearn import tree\n",
    "from sklearn.tree import DecisionTreeClassifier\n",
    "from sklearn.metrics import roc_auc_score\n",
    "from sklearn.metrics import roc_curve\n",
    "from sklearn.preprocessing import MinMaxScaler"
   ]
  },
  {
   "cell_type": "markdown",
   "id": "d1b3e303",
   "metadata": {},
   "source": [
    "# Load Raw Data"
   ]
  },
  {
   "cell_type": "code",
   "execution_count": 32,
   "id": "1e7b07c8",
   "metadata": {},
   "outputs": [],
   "source": [
    "redwine = pd.read_csv(\n",
    "    \"C:\\\\Users\\\\Space\\\\Documents\\\\py\\\\Projects\\\\TuringCollege\\\\RedWine\\\\DataSets\\\\winequality-red.csv\",\n",
    "    index_col=False,\n",
    ")"
   ]
  },
  {
   "cell_type": "markdown",
   "id": "09096831",
   "metadata": {},
   "source": [
    "# Two Groups"
   ]
  },
  {
   "cell_type": "code",
   "execution_count": 33,
   "id": "7b75a876",
   "metadata": {},
   "outputs": [],
   "source": [
    "redwine[\"quality\"] = redwine[\"quality\"].replace([7, 8], 1)\n",
    "redwine[\"quality\"] = redwine[\"quality\"].replace([3, 4, 5, 6, 7], 0)"
   ]
  },
  {
   "cell_type": "markdown",
   "id": "221f86f5",
   "metadata": {},
   "source": [
    "# Data Normalization"
   ]
  },
  {
   "cell_type": "code",
   "execution_count": 34,
   "id": "6fd0a988",
   "metadata": {
    "scrolled": true
   },
   "outputs": [
    {
     "data": {
      "text/html": [
       "<div>\n",
       "<style scoped>\n",
       "    .dataframe tbody tr th:only-of-type {\n",
       "        vertical-align: middle;\n",
       "    }\n",
       "\n",
       "    .dataframe tbody tr th {\n",
       "        vertical-align: top;\n",
       "    }\n",
       "\n",
       "    .dataframe thead th {\n",
       "        text-align: right;\n",
       "    }\n",
       "</style>\n",
       "<table border=\"1\" class=\"dataframe\">\n",
       "  <thead>\n",
       "    <tr style=\"text-align: right;\">\n",
       "      <th></th>\n",
       "      <th>fixed acidity</th>\n",
       "      <th>volatile acidity</th>\n",
       "      <th>citric acid</th>\n",
       "      <th>residual sugar</th>\n",
       "      <th>chlorides</th>\n",
       "      <th>free sulfur dioxide</th>\n",
       "      <th>total sulfur dioxide</th>\n",
       "      <th>density</th>\n",
       "      <th>pH</th>\n",
       "      <th>sulphates</th>\n",
       "      <th>alcohol</th>\n",
       "      <th>quality</th>\n",
       "    </tr>\n",
       "  </thead>\n",
       "  <tbody>\n",
       "    <tr>\n",
       "      <th>0</th>\n",
       "      <td>0.247788</td>\n",
       "      <td>0.397260</td>\n",
       "      <td>0.00</td>\n",
       "      <td>0.068493</td>\n",
       "      <td>0.106845</td>\n",
       "      <td>0.140845</td>\n",
       "      <td>0.098940</td>\n",
       "      <td>0.567548</td>\n",
       "      <td>0.606299</td>\n",
       "      <td>0.137725</td>\n",
       "      <td>0.153846</td>\n",
       "      <td>0.0</td>\n",
       "    </tr>\n",
       "    <tr>\n",
       "      <th>1</th>\n",
       "      <td>0.283186</td>\n",
       "      <td>0.520548</td>\n",
       "      <td>0.00</td>\n",
       "      <td>0.116438</td>\n",
       "      <td>0.143573</td>\n",
       "      <td>0.338028</td>\n",
       "      <td>0.215548</td>\n",
       "      <td>0.494126</td>\n",
       "      <td>0.362205</td>\n",
       "      <td>0.209581</td>\n",
       "      <td>0.215385</td>\n",
       "      <td>0.0</td>\n",
       "    </tr>\n",
       "    <tr>\n",
       "      <th>2</th>\n",
       "      <td>0.283186</td>\n",
       "      <td>0.438356</td>\n",
       "      <td>0.04</td>\n",
       "      <td>0.095890</td>\n",
       "      <td>0.133556</td>\n",
       "      <td>0.197183</td>\n",
       "      <td>0.169611</td>\n",
       "      <td>0.508811</td>\n",
       "      <td>0.409449</td>\n",
       "      <td>0.191617</td>\n",
       "      <td>0.215385</td>\n",
       "      <td>0.0</td>\n",
       "    </tr>\n",
       "    <tr>\n",
       "      <th>3</th>\n",
       "      <td>0.584071</td>\n",
       "      <td>0.109589</td>\n",
       "      <td>0.56</td>\n",
       "      <td>0.068493</td>\n",
       "      <td>0.105175</td>\n",
       "      <td>0.225352</td>\n",
       "      <td>0.190813</td>\n",
       "      <td>0.582232</td>\n",
       "      <td>0.330709</td>\n",
       "      <td>0.149701</td>\n",
       "      <td>0.215385</td>\n",
       "      <td>0.0</td>\n",
       "    </tr>\n",
       "    <tr>\n",
       "      <th>4</th>\n",
       "      <td>0.247788</td>\n",
       "      <td>0.397260</td>\n",
       "      <td>0.00</td>\n",
       "      <td>0.068493</td>\n",
       "      <td>0.106845</td>\n",
       "      <td>0.140845</td>\n",
       "      <td>0.098940</td>\n",
       "      <td>0.567548</td>\n",
       "      <td>0.606299</td>\n",
       "      <td>0.137725</td>\n",
       "      <td>0.153846</td>\n",
       "      <td>0.0</td>\n",
       "    </tr>\n",
       "  </tbody>\n",
       "</table>\n",
       "</div>"
      ],
      "text/plain": [
       "   fixed acidity  volatile acidity  citric acid  residual sugar  chlorides  \\\n",
       "0       0.247788          0.397260         0.00        0.068493   0.106845   \n",
       "1       0.283186          0.520548         0.00        0.116438   0.143573   \n",
       "2       0.283186          0.438356         0.04        0.095890   0.133556   \n",
       "3       0.584071          0.109589         0.56        0.068493   0.105175   \n",
       "4       0.247788          0.397260         0.00        0.068493   0.106845   \n",
       "\n",
       "   free sulfur dioxide  total sulfur dioxide   density        pH  sulphates  \\\n",
       "0             0.140845              0.098940  0.567548  0.606299   0.137725   \n",
       "1             0.338028              0.215548  0.494126  0.362205   0.209581   \n",
       "2             0.197183              0.169611  0.508811  0.409449   0.191617   \n",
       "3             0.225352              0.190813  0.582232  0.330709   0.149701   \n",
       "4             0.140845              0.098940  0.567548  0.606299   0.137725   \n",
       "\n",
       "    alcohol  quality  \n",
       "0  0.153846      0.0  \n",
       "1  0.215385      0.0  \n",
       "2  0.215385      0.0  \n",
       "3  0.215385      0.0  \n",
       "4  0.153846      0.0  "
      ]
     },
     "execution_count": 34,
     "metadata": {},
     "output_type": "execute_result"
    }
   ],
   "source": [
    "scaler = MinMaxScaler()\n",
    "scaled_redwine = scaler.fit_transform(redwine)\n",
    "scaled_redwine = pd.DataFrame(scaled_redwine, columns = ['fixed acidity', 'volatile acidity', 'citric acid', 'residual sugar',\n",
    "       'chlorides', 'free sulfur dioxide', 'total sulfur dioxide', 'density',\n",
    "       'pH', 'sulphates', 'alcohol', 'quality'])\n",
    "scaled_redwine.head()"
   ]
  },
  {
   "cell_type": "markdown",
   "id": "a56c1ad5",
   "metadata": {},
   "source": [
    "# Functions"
   ]
  },
  {
   "cell_type": "markdown",
   "id": "1b6cfced",
   "metadata": {},
   "source": [
    "### Feature Columns"
   ]
  },
  {
   "cell_type": "code",
   "execution_count": 35,
   "id": "7ea6591a",
   "metadata": {},
   "outputs": [],
   "source": [
    "def feature_columns(feature_cols):\n",
    "    feature_cols = [\n",
    "    \"citric acid\",\n",
    "    ]\n",
    "\n",
    "    X = redwine[feature_cols]\n",
    "    y = redwine.quality\n",
    "\n",
    "    return X, y"
   ]
  },
  {
   "cell_type": "markdown",
   "id": "555a115a",
   "metadata": {},
   "source": [
    "### Random Over Sampler"
   ]
  },
  {
   "cell_type": "code",
   "execution_count": 36,
   "id": "f7b13619",
   "metadata": {},
   "outputs": [],
   "source": [
    "def random_oversampler(X, y):\n",
    "    oversample = RandomOverSampler(sampling_strategy=\"minority\")\n",
    "    oversample = RandomOverSampler(sampling_strategy=\"auto\")\n",
    "    steps = [(\"over\", RandomOverSampler()), (\"model\", LogisticRegression())]\n",
    "    pipeline = Pipeline(steps=steps)\n",
    "    X, y = oversample.fit_resample(X, y)\n",
    "    \n",
    "    return X, y"
   ]
  },
  {
   "cell_type": "markdown",
   "id": "0418dd36",
   "metadata": {},
   "source": [
    "### Logistic Regression Model"
   ]
  },
  {
   "cell_type": "code",
   "execution_count": 37,
   "id": "c4c9c41e",
   "metadata": {},
   "outputs": [],
   "source": [
    "def logistic_regression_model(X, y):\n",
    "    X_train, X_test, y_train, y_test = train_test_split(\n",
    "    X, y, shuffle=True, test_size=0.4, random_state=0)\n",
    "    log_model = LogisticRegression(solver=\"liblinear\", random_state=None)\n",
    "    log_model.fit(X_train, y_train)\n",
    "    y_predict = log_model.predict(X_test)\n",
    "    \n",
    "    return log_model, X_test, y_test, y_predict"
   ]
  },
  {
   "cell_type": "markdown",
   "id": "37f8625c",
   "metadata": {},
   "source": [
    "### Confusion Matrix"
   ]
  },
  {
   "cell_type": "code",
   "execution_count": 38,
   "id": "0cc67dd3",
   "metadata": {},
   "outputs": [],
   "source": [
    "def print_confusion_matrix(y_test, y_predict):\n",
    "    print(confusion_matrix(y_test, y_predict))"
   ]
  },
  {
   "cell_type": "markdown",
   "id": "5e202d72",
   "metadata": {},
   "source": [
    "### Classification Report"
   ]
  },
  {
   "cell_type": "code",
   "execution_count": 39,
   "id": "37db8a55",
   "metadata": {},
   "outputs": [],
   "source": [
    "def print_classification_report(y_test, y_predict):\n",
    "    print(classification_report(y_test, y_predict))"
   ]
  },
  {
   "cell_type": "markdown",
   "id": "f8a4b5cd",
   "metadata": {},
   "source": [
    "### Receiver Operating Characteristic (ROC) Curve"
   ]
  },
  {
   "cell_type": "code",
   "execution_count": 40,
   "id": "882fe37b",
   "metadata": {},
   "outputs": [],
   "source": [
    "def display_roc_curve(log_model, X_test, y_test, y_predict):\n",
    "    logit_roc_auc = roc_auc_score(y_test, y_predict)\n",
    "    fpr, tpr, thresholds = roc_curve(y_test, log_model.predict_proba(X_test)[:,1])\n",
    "\n",
    "    plt.figure()\n",
    "    plt.plot(fpr, tpr, label='Logistic Regression (area = %0.2f)' % logit_roc_auc)\n",
    "    plt.plot([0, 1], [0, 1],'r--')\n",
    "    plt.xlim([0.0, 1.0])\n",
    "    plt.ylim([0.0, 1.05])\n",
    "    plt.xlabel('False Positive Rate')\n",
    "    plt.ylabel('True Positive Rate')\n",
    "    plt.title('Receiver operating characteristic')\n",
    "    plt.legend(loc=\"lower right\")\n",
    "    plt.savefig('Log_ROC')\n",
    "\n",
    "    plt.show()"
   ]
  },
  {
   "cell_type": "markdown",
   "id": "5e6b7b94",
   "metadata": {},
   "source": [
    "# Logistic Regression"
   ]
  },
  {
   "cell_type": "code",
   "execution_count": 41,
   "id": "f8042a3d",
   "metadata": {},
   "outputs": [],
   "source": [
    "feature_cols = [\n",
    "    \"citric acid\",\n",
    "]\n",
    "\n",
    "X, y = feature_columns(feature_cols)\n",
    "X, y = random_oversampler(X, y)\n",
    "log_model, X_test, y_test, y_predict = logistic_regression_model(X, y)"
   ]
  },
  {
   "cell_type": "markdown",
   "id": "4eaa8b51",
   "metadata": {},
   "source": [
    "### Reports"
   ]
  },
  {
   "cell_type": "code",
   "execution_count": 42,
   "id": "ac36f7da",
   "metadata": {},
   "outputs": [
    {
     "name": "stdout",
     "output_type": "stream",
     "text": [
      "[[344 222]\n",
      " [119 421]]\n"
     ]
    }
   ],
   "source": [
    "print_confusion_matrix(y_test, y_predict)"
   ]
  },
  {
   "cell_type": "code",
   "execution_count": 43,
   "id": "edd761b8",
   "metadata": {},
   "outputs": [
    {
     "name": "stdout",
     "output_type": "stream",
     "text": [
      "              precision    recall  f1-score   support\n",
      "\n",
      "           0       0.74      0.61      0.67       566\n",
      "           1       0.65      0.78      0.71       540\n",
      "\n",
      "    accuracy                           0.69      1106\n",
      "   macro avg       0.70      0.69      0.69      1106\n",
      "weighted avg       0.70      0.69      0.69      1106\n",
      "\n"
     ]
    }
   ],
   "source": [
    "print_classification_report(y_test, y_predict)"
   ]
  },
  {
   "cell_type": "code",
   "execution_count": 44,
   "id": "26f342ad",
   "metadata": {},
   "outputs": [
    {
     "ename": "NameError",
     "evalue": "name 'X_test' is not defined",
     "output_type": "error",
     "traceback": [
      "\u001b[1;31m---------------------------------------------------------------------------\u001b[0m",
      "\u001b[1;31mNameError\u001b[0m                                 Traceback (most recent call last)",
      "Cell \u001b[1;32mIn [44], line 1\u001b[0m\n\u001b[1;32m----> 1\u001b[0m \u001b[43mdisplay_roc_curve\u001b[49m\u001b[43m(\u001b[49m\u001b[43mlog_model\u001b[49m\u001b[43m,\u001b[49m\u001b[43m \u001b[49m\u001b[43my_test\u001b[49m\u001b[43m,\u001b[49m\u001b[43m \u001b[49m\u001b[43my_predict\u001b[49m\u001b[43m)\u001b[49m\n",
      "Cell \u001b[1;32mIn [40], line 3\u001b[0m, in \u001b[0;36mdisplay_roc_curve\u001b[1;34m(log_model, y_test, y_predict)\u001b[0m\n\u001b[0;32m      1\u001b[0m \u001b[38;5;28;01mdef\u001b[39;00m \u001b[38;5;21mdisplay_roc_curve\u001b[39m(log_model, y_test, y_predict):\n\u001b[0;32m      2\u001b[0m     logit_roc_auc \u001b[38;5;241m=\u001b[39m roc_auc_score(y_test, y_predict)\n\u001b[1;32m----> 3\u001b[0m     fpr, tpr, thresholds \u001b[38;5;241m=\u001b[39m roc_curve(y_test, log_model\u001b[38;5;241m.\u001b[39mpredict_proba(\u001b[43mX_test\u001b[49m)[:,\u001b[38;5;241m1\u001b[39m])\n\u001b[0;32m      5\u001b[0m     plt\u001b[38;5;241m.\u001b[39mfigure()\n\u001b[0;32m      6\u001b[0m     plt\u001b[38;5;241m.\u001b[39mplot(fpr, tpr, label\u001b[38;5;241m=\u001b[39m\u001b[38;5;124m'\u001b[39m\u001b[38;5;124mLogistic Regression (area = \u001b[39m\u001b[38;5;132;01m%0.2f\u001b[39;00m\u001b[38;5;124m)\u001b[39m\u001b[38;5;124m'\u001b[39m \u001b[38;5;241m%\u001b[39m logit_roc_auc)\n",
      "\u001b[1;31mNameError\u001b[0m: name 'X_test' is not defined"
     ]
    }
   ],
   "source": [
    "display_roc_curve(log_model, X_test, y_test, y_predict)"
   ]
  },
  {
   "cell_type": "code",
   "execution_count": null,
   "id": "e9fae3c8",
   "metadata": {},
   "outputs": [],
   "source": []
  },
  {
   "cell_type": "code",
   "execution_count": null,
   "id": "a0d28e95",
   "metadata": {},
   "outputs": [],
   "source": []
  }
 ],
 "metadata": {
  "kernelspec": {
   "display_name": "Python 3 (ipykernel)",
   "language": "python",
   "name": "python3"
  },
  "language_info": {
   "codemirror_mode": {
    "name": "ipython",
    "version": 3
   },
   "file_extension": ".py",
   "mimetype": "text/x-python",
   "name": "python",
   "nbconvert_exporter": "python",
   "pygments_lexer": "ipython3",
   "version": "3.10.7"
  }
 },
 "nbformat": 4,
 "nbformat_minor": 5
}
