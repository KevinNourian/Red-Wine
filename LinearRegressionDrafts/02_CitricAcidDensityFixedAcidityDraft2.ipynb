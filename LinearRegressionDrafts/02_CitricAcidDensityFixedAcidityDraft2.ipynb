{
 "cells": [
  {
   "cell_type": "markdown",
   "id": "dfe7b4af",
   "metadata": {},
   "source": [
    "# Citric Acid Density Fixed Acidity Draft 2"
   ]
  },
  {
   "cell_type": "markdown",
   "id": "55b75ab1",
   "metadata": {},
   "source": [
    "# Libraries"
   ]
  },
  {
   "cell_type": "code",
   "execution_count": 1,
   "id": "e1e914e5",
   "metadata": {},
   "outputs": [],
   "source": [
    "import pandas as pd\n",
    "import numpy as np\n",
    "import seaborn as sns\n",
    "import matplotlib as mpl\n",
    "import matplotlib.pyplot as plt\n",
    "import warnings\n",
    "import datetime\n",
    "import sqlite3\n",
    "import imblearn\n",
    "\n",
    "\n",
    "from IPython.display import display\n",
    "from pylab import rcParams\n",
    "from sklearn.model_selection import train_test_split\n",
    "from sklearn.linear_model import LogisticRegression\n",
    "from sklearn.linear_model import LinearRegression\n",
    "from sklearn.metrics import classification_report, confusion_matrix\n",
    "from sklearn.metrics import accuracy_score\n",
    "from imblearn.over_sampling import RandomOverSampler\n",
    "from imblearn.pipeline import Pipeline\n",
    "from sklearn import tree\n",
    "from sklearn.tree import DecisionTreeClassifier\n",
    "from sklearn.metrics import roc_auc_score\n",
    "from sklearn.metrics import roc_curve\n",
    "from sklearn.metrics import r2_score\n",
    "from sklearn.preprocessing import MinMaxScaler"
   ]
  },
  {
   "cell_type": "markdown",
   "id": "d1b3e303",
   "metadata": {},
   "source": [
    "# Load Raw Data"
   ]
  },
  {
   "cell_type": "code",
   "execution_count": 2,
   "id": "1e7b07c8",
   "metadata": {},
   "outputs": [],
   "source": [
    "redwine = pd.read_csv(\n",
    "    \"C:\\\\Users\\\\Space\\\\Documents\\\\py\\\\Projects\\\\TuringCollege\\\\RedWine\\\\DataSets\\\\winequality-red.csv\",\n",
    "    index_col=False,\n",
    ")"
   ]
  },
  {
   "cell_type": "markdown",
   "id": "09096831",
   "metadata": {},
   "source": [
    "# Two Groups"
   ]
  },
  {
   "cell_type": "code",
   "execution_count": 3,
   "id": "7b75a876",
   "metadata": {},
   "outputs": [],
   "source": [
    "redwine[\"quality\"] = redwine[\"quality\"].replace([7, 8], 1)\n",
    "redwine[\"quality\"] = redwine[\"quality\"].replace([3, 4, 5, 6, 7], 0)"
   ]
  },
  {
   "cell_type": "markdown",
   "id": "221f86f5",
   "metadata": {},
   "source": [
    "# Data Normalization"
   ]
  },
  {
   "cell_type": "code",
   "execution_count": 4,
   "id": "6fd0a988",
   "metadata": {},
   "outputs": [],
   "source": [
    "scaler = MinMaxScaler()\n",
    "scaled_redwine_linear = scaler.fit_transform(redwine)\n",
    "scaled_redwine_linear = pd.DataFrame(scaled_redwine_linear, columns = ['fixed acidity', 'volatile acidity', 'citric acid', 'residual sugar',\n",
    "       'chlorides', 'free sulfur dioxide', 'total sulfur dioxide', 'density',\n",
    "       'pH', 'sulphates', 'alcohol', 'quality'])"
   ]
  },
  {
   "cell_type": "code",
   "execution_count": 5,
   "id": "f7f83ee2",
   "metadata": {},
   "outputs": [],
   "source": [
    "scaled_redwine_linear = scaled_redwine_linear.drop('quality', axis=1)"
   ]
  },
  {
   "cell_type": "markdown",
   "id": "000af4c8",
   "metadata": {},
   "source": [
    "## Functions"
   ]
  },
  {
   "cell_type": "markdown",
   "id": "1b6cfced",
   "metadata": {},
   "source": [
    "### Feature Columns"
   ]
  },
  {
   "cell_type": "code",
   "execution_count": 10,
   "id": "7ea6591a",
   "metadata": {},
   "outputs": [],
   "source": [
    "def feature_columns(feature_cols, dependent_variable):\n",
    "\n",
    "    X = scaled_redwine_linear[feature_cols]\n",
    "    y = scaled_redwine_linear[dependent_variable]\n",
    "\n",
    "    return X, y"
   ]
  },
  {
   "cell_type": "markdown",
   "id": "40087082",
   "metadata": {},
   "source": [
    "## Linear Regression"
   ]
  },
  {
   "cell_type": "code",
   "execution_count": 11,
   "id": "6f4a77cf",
   "metadata": {},
   "outputs": [],
   "source": [
    "def linear_regression_model(X, y):\n",
    "    X_train, X_test, y_train, y_test = train_test_split(\n",
    "    X, y, shuffle=True, test_size=0.2, random_state=0)\n",
    "    log_model = LinearRegression()\n",
    "    log_model.fit(X_train, y_train)\n",
    "    y_predict = log_model.predict(X_test)\n",
    "    \n",
    "    return log_model, X_test, y_test, y_predict"
   ]
  },
  {
   "cell_type": "markdown",
   "id": "379e54b1",
   "metadata": {},
   "source": [
    "## Print R Squared"
   ]
  },
  {
   "cell_type": "code",
   "execution_count": 12,
   "id": "67e1c901",
   "metadata": {},
   "outputs": [],
   "source": [
    "def print_rsquared(y_test, y_predict):\n",
    "    print('R Squared is: ', np.round(r2_score(y_test, y_predict),2))"
   ]
  },
  {
   "cell_type": "markdown",
   "id": "957f1ebf",
   "metadata": {},
   "source": [
    "# Citric Acid"
   ]
  },
  {
   "cell_type": "code",
   "execution_count": 14,
   "id": "78040a98",
   "metadata": {},
   "outputs": [
    {
     "name": "stdout",
     "output_type": "stream",
     "text": [
      "R Squared is:  0.01\n"
     ]
    }
   ],
   "source": [
    "feature_cols = [\n",
    "    \"citric acid\",\n",
    "]\n",
    "\n",
    "dependent_variable = \"alcohol\"\n",
    "\n",
    "X, y = feature_columns(feature_cols, dependent_variable)\n",
    "log_model, X_test, y_test, y_predict = linear_regression_model(X, y)\n",
    "print_rsquared(y_test, y_predict)"
   ]
  },
  {
   "cell_type": "markdown",
   "id": "afed0372",
   "metadata": {},
   "source": [
    "# Density"
   ]
  },
  {
   "cell_type": "code",
   "execution_count": 15,
   "id": "254d8c23",
   "metadata": {},
   "outputs": [
    {
     "name": "stdout",
     "output_type": "stream",
     "text": [
      "R Squared is:  0.26\n"
     ]
    }
   ],
   "source": [
    "feature_cols = [\n",
    "    \"density\",\n",
    "]\n",
    "\n",
    "dependent_variable = \"alcohol\"\n",
    "\n",
    "X, y = feature_columns(feature_cols, dependent_variable)\n",
    "log_model, X_test, y_test, y_predict = linear_regression_model(X, y)\n",
    "print_rsquared(y_test, y_predict)"
   ]
  },
  {
   "cell_type": "markdown",
   "id": "7ecaedf5",
   "metadata": {},
   "source": [
    "# Fixed Acidity"
   ]
  },
  {
   "cell_type": "code",
   "execution_count": 16,
   "id": "e9a889c3",
   "metadata": {},
   "outputs": [
    {
     "name": "stdout",
     "output_type": "stream",
     "text": [
      "R Squared is:  0.0\n"
     ]
    }
   ],
   "source": [
    "feature_cols = [\n",
    "    \"fixed acidity\",\n",
    "]\n",
    "\n",
    "dependent_variable = \"alcohol\"\n",
    "\n",
    "X, y = feature_columns(feature_cols, dependent_variable)\n",
    "log_model, X_test, y_test, y_predict = linear_regression_model(X, y)\n",
    "print_rsquared(y_test, y_predict)"
   ]
  },
  {
   "cell_type": "markdown",
   "id": "a6cf27e5",
   "metadata": {},
   "source": [
    "# Sulphates"
   ]
  },
  {
   "cell_type": "code",
   "execution_count": 17,
   "id": "87d780be",
   "metadata": {},
   "outputs": [
    {
     "name": "stdout",
     "output_type": "stream",
     "text": [
      "R Squared is:  0.0\n"
     ]
    }
   ],
   "source": [
    "feature_cols = [\n",
    "    \"sulphates\",\n",
    "]\n",
    "\n",
    "dependent_variable = \"alcohol\"\n",
    "\n",
    "X, y = feature_columns(feature_cols, dependent_variable)\n",
    "log_model, X_test, y_test, y_predict = linear_regression_model(X, y)\n",
    "print_rsquared(y_test, y_predict)"
   ]
  },
  {
   "cell_type": "markdown",
   "id": "60f6396e",
   "metadata": {},
   "source": [
    "# Chlorides"
   ]
  },
  {
   "cell_type": "code",
   "execution_count": 18,
   "id": "6ae7ebab",
   "metadata": {},
   "outputs": [
    {
     "name": "stdout",
     "output_type": "stream",
     "text": [
      "R Squared is:  0.07\n"
     ]
    }
   ],
   "source": [
    "feature_cols = [\n",
    "    \"chlorides\",\n",
    "]\n",
    "\n",
    "dependent_variable = \"alcohol\"\n",
    "\n",
    "X, y = feature_columns(feature_cols, dependent_variable)\n",
    "log_model, X_test, y_test, y_predict = linear_regression_model(X, y)\n",
    "print_rsquared(y_test, y_predict)"
   ]
  },
  {
   "cell_type": "markdown",
   "id": "64e5c43b",
   "metadata": {},
   "source": [
    "# Total Sulfur Dioxide"
   ]
  },
  {
   "cell_type": "code",
   "execution_count": 19,
   "id": "3e606797",
   "metadata": {},
   "outputs": [
    {
     "name": "stdout",
     "output_type": "stream",
     "text": [
      "R Squared is:  0.03\n"
     ]
    }
   ],
   "source": [
    "feature_cols = [\n",
    "    \"total sulfur dioxide\",\n",
    "]\n",
    "\n",
    "dependent_variable = \"alcohol\"\n",
    "\n",
    "X, y = feature_columns(feature_cols, dependent_variable)\n",
    "log_model, X_test, y_test, y_predict = linear_regression_model(X, y)\n",
    "print_rsquared(y_test, y_predict)"
   ]
  },
  {
   "cell_type": "markdown",
   "id": "e6e94095",
   "metadata": {},
   "source": [
    "# Free Sulfur Dioxide"
   ]
  },
  {
   "cell_type": "code",
   "execution_count": 20,
   "id": "942b458e",
   "metadata": {},
   "outputs": [
    {
     "name": "stdout",
     "output_type": "stream",
     "text": [
      "R Squared is:  -0.01\n"
     ]
    }
   ],
   "source": [
    "feature_cols = [\n",
    "    \"free sulfur dioxide\",\n",
    "]\n",
    "\n",
    "dependent_variable = \"alcohol\"\n",
    "\n",
    "X, y = feature_columns(feature_cols, dependent_variable)\n",
    "log_model, X_test, y_test, y_predict = linear_regression_model(X, y)\n",
    "print_rsquared(y_test, y_predict)"
   ]
  },
  {
   "cell_type": "markdown",
   "id": "f070aebe",
   "metadata": {},
   "source": [
    "# pH"
   ]
  },
  {
   "cell_type": "code",
   "execution_count": 21,
   "id": "88827923",
   "metadata": {},
   "outputs": [
    {
     "name": "stdout",
     "output_type": "stream",
     "text": [
      "R Squared is:  0.05\n"
     ]
    }
   ],
   "source": [
    "feature_cols = [\n",
    "    \"pH\",\n",
    "]\n",
    "\n",
    "dependent_variable = \"alcohol\"\n",
    "\n",
    "X, y = feature_columns(feature_cols, dependent_variable)\n",
    "log_model, X_test, y_test, y_predict = linear_regression_model(X, y)\n",
    "print_rsquared(y_test, y_predict)"
   ]
  },
  {
   "cell_type": "markdown",
   "id": "0cdafd27",
   "metadata": {},
   "source": [
    "# Multivariant Linear Regression"
   ]
  },
  {
   "cell_type": "code",
   "execution_count": 22,
   "id": "8916b288",
   "metadata": {},
   "outputs": [
    {
     "name": "stdout",
     "output_type": "stream",
     "text": [
      "R Squared is:  0.44\n"
     ]
    }
   ],
   "source": [
    "feature_cols = [\n",
    "    \"density\",\n",
    "    \"volatile acidity\",\n",
    "    \"residual sugar\",\n",
    "    \"total sulfur dioxide\",\n",
    "    \"chlorides\",\n",
    "    \"pH\",\n",
    "]\n",
    "\n",
    "dependent_variable = \"alcohol\"\n",
    "\n",
    "X, y = feature_columns(feature_cols, dependent_variable)\n",
    "log_model, X_test, y_test, y_predict = linear_regression_model(X, y)\n",
    "print_rsquared(y_test, y_predict)"
   ]
  }
 ],
 "metadata": {
  "kernelspec": {
   "display_name": "Python 3 (ipykernel)",
   "language": "python",
   "name": "python3"
  },
  "language_info": {
   "codemirror_mode": {
    "name": "ipython",
    "version": 3
   },
   "file_extension": ".py",
   "mimetype": "text/x-python",
   "name": "python",
   "nbconvert_exporter": "python",
   "pygments_lexer": "ipython3",
   "version": "3.10.7"
  }
 },
 "nbformat": 4,
 "nbformat_minor": 5
}
